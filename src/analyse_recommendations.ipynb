{
  "cells": [
    {
      "cell_type": "code",
      "source": [
        "from functools import reduce\n",
        "import pandas as pd\n",
        "import seaborn as sns"
      ],
      "outputs": [],
      "execution_count": null,
      "metadata": {}
    },
    {
      "cell_type": "code",
      "source": [
        "# Parameters\n",
        "recommendations = None"
      ],
      "outputs": [],
      "execution_count": 53,
      "metadata": {
        "tags": [
          "parameters"
        ]
      }
    },
    {
      "cell_type": "code",
      "source": [
        "# Import recommendations\n",
        "df = pd.read_json(recommendations, orient=\"table\")"
      ],
      "outputs": [],
      "execution_count": 55,
      "metadata": {}
    },
    {
      "cell_type": "code",
      "source": [
        "df.head()"
      ],
      "outputs": [],
      "execution_count": 57,
      "metadata": {}
    },
    {
      "cell_type": "code",
      "source": [
        "# Data enrichment\n",
        "df[\"number_of_recommendations\"] = df[\"recommendations\"].map(lambda x: len(x))"
      ],
      "outputs": [],
      "execution_count": null,
      "metadata": {
        "collapsed": false,
        "outputHidden": false,
        "inputHidden": false
      }
    },
    {
      "cell_type": "code",
      "source": [
        "# Request statistics\n",
        "print(\"Overview of API requests\")\n",
        "print(\"Total requestes\")\n",
        "print(len(df))\n",
        "print(\"All API requests are successful\")\n",
        "print((df[\"status_code\"] == 200).all())\n",
        "print()\n",
        "print(\"Requests per HTTP status code\")\n",
        "print(df[\"status_code\"].value_counts())\n",
        "print()\n",
        "print(\"Percentage of requests per HTTP status code\")\n",
        "print(df[\"status_code\"].value_counts(normalize = True))\n",
        "print()\n",
        "print(\"Request duration in secs.\")\n",
        "print(df[\"duration\"].describe())\n",
        "print()\n",
        "print(\"Request duration per HTTP status code in secs.\")\n",
        "print(df.groupby([\"status_code\"])[\"duration\"].describe())\n",
        "print()\n",
        "print(\"Examples of unsuccessful requests\")\n",
        "df[df[\"status_code\"] == 500].head()"
      ],
      "outputs": [],
      "execution_count": null,
      "metadata": {
        "collapsed": false,
        "outputHidden": false,
        "inputHidden": false
      }
    },
    {
      "cell_type": "code",
      "source": [
        "# Recommendation statistics\n",
        "print(\"All successfull API requests return the same number of recommendations\")\n",
        "print(df[df[\"status_code\"] == 200][\"number_of_recommendations\"].all())\n",
        "print()\n",
        "print(\"Number of total tweet recommendations\")\n",
        "print(df[\"number_of_recommendations\"].sum())\n",
        "print()\n",
        "print(\"Number of unique recommendations\")\n",
        "print(len(set(reduce(lambda x, y: x + y, df[\"recommendations\"]))))\n",
        "print()"
      ],
      "outputs": [],
      "execution_count": null,
      "metadata": {
        "collapsed": false,
        "outputHidden": false,
        "inputHidden": false
      }
    },
    {
      "cell_type": "code",
      "source": [
        "sns.pairplot(data=df)"
      ],
      "outputs": [],
      "execution_count": null,
      "metadata": {
        "collapsed": false,
        "outputHidden": false,
        "inputHidden": false
      }
    }
  ],
  "metadata": {
    "kernelspec": {
      "display_name": "Python 3",
      "language": "python",
      "name": "python3"
    },
    "language_info": {
      "codemirror_mode": {
        "name": "ipython",
        "version": 3
      },
      "file_extension": ".py",
      "mimetype": "text/x-python",
      "name": "python",
      "nbconvert_exporter": "python",
      "pygments_lexer": "ipython3",
      "version": "3.7.3"
    },
    "nteract": {
      "version": "0.12.3"
    }
  },
  "nbformat": 4,
  "nbformat_minor": 2
}