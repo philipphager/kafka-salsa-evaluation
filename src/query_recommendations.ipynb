{
  "cells": [
    {
      "cell_type": "code",
      "source": [
        "import itertools as it\n",
        "import pandas as pd\n",
        "import requests as rq"
      ],
      "outputs": [],
      "execution_count": 52,
      "metadata": {}
    },
    {
      "cell_type": "code",
      "source": [
        "# Parameters\n",
        "users = None\n",
        "output = \"recommendations.json\"\n",
        "host = \"host.docker.internal\"\n",
        "port = \"8070\"\n",
        "sample_size = 10\n",
        "limits = [10]\n",
        "walks = [1000]\n",
        "walk_length = [100]"
      ],
      "outputs": [],
      "execution_count": 53,
      "metadata": {
        "tags": [
          "parameters"
        ]
      }
    },
    {
      "cell_type": "code",
      "source": [
        "# Import users\n",
        "df = pd.read_json(users)\n",
        "\n",
        "# Compute cross product of all configuration values\n",
        "configurations = list(it.product(walks, walk_length, limits))"
      ],
      "outputs": [],
      "execution_count": 55,
      "metadata": {}
    },
    {
      "cell_type": "code",
      "source": [
        "def get_sample(df, offset, sample_size):\n",
        "    return df.iloc[offset:offset + sample_size]\n",
        "\n",
        "def get_recommendations(sample_df, walks, walk_length, limit):\n",
        "    rows = []\n",
        "\n",
        "    for i, row in sample_df.iterrows():\n",
        "        user = row[\"user\"]\n",
        "        url = f\"http://{host}:{port}/recommendation/salsa/{user}/?walks={walks}&walk_length={walk_length}&limit={limit}\"\n",
        "        response = rq.get(url)\n",
        "\n",
        "        status_code = response.status_code\n",
        "        duration = response.elapsed.total_seconds()\n",
        "        recommendations = response.json() if response.status_code == 200 else []\n",
        "        rows.append((walks, walk_length, limit, url, status_code, duration, user, recommendations))\n",
        "    \n",
        "    return pd.DataFrame(rows, columns=[\"walks\", \"walk_length\", \"limit\", \"url\", \"status_code\", \"duration\", \"user\", \"recommendations\"])"
      ],
      "outputs": [],
      "execution_count": 57,
      "metadata": {}
    },
    {
      "cell_type": "code",
      "source": [
        "# Perform API requests\n",
        "offset = 0\n",
        "result_dfs = []\n",
        "\n",
        "for (walks, walk_length, limit) in configurations:\n",
        "    print(f\"Fetch recommendations: walks {walks}, walk_length {walk_length}, limit {limit}\")\n",
        "    sample_df = get_sample(df, offset, sample_size)\n",
        "    result_dfs.append(get_recommendations(sample_df, walks, walk_length, limit))\n",
        "    \n",
        "result_df = pd.concat(result_dfs)"
      ],
      "outputs": [],
      "execution_count": null,
      "metadata": {
        "collapsed": false,
        "outputHidden": false,
        "inputHidden": false
      }
    },
    {
      "cell_type": "code",
      "source": [
        "# Save results\n",
        "result_df.to_json(output, index=False, orient=\"table\")"
      ],
      "outputs": [],
      "execution_count": 58,
      "metadata": {}
    }
  ],
  "metadata": {
    "kernelspec": {
      "display_name": "Python 3",
      "language": "python",
      "name": "python3"
    },
    "language_info": {
      "codemirror_mode": {
        "name": "ipython",
        "version": 3
      },
      "file_extension": ".py",
      "mimetype": "text/x-python",
      "name": "python",
      "nbconvert_exporter": "python",
      "pygments_lexer": "ipython3",
      "version": "3.7.3"
    },
    "nteract": {
      "version": "0.12.3"
    }
  },
  "nbformat": 4,
  "nbformat_minor": 2
}