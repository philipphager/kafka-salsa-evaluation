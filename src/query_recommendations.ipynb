{
 "cells": [
  {
   "cell_type": "code",
   "execution_count": 52,
   "metadata": {},
   "outputs": [],
   "source": [
    "import json\n",
    "import pandas as pd\n",
    "import requests as rq"
   ]
  },
  {
   "cell_type": "code",
   "execution_count": 53,
   "metadata": {
    "tags": [
     "parameters"
    ]
   },
   "outputs": [],
   "source": [
    "# Parameters\n",
    "data = None\n",
    "sample = None\n",
    "results = \"results.json\"\n",
    "host = \"host.docker.internal\"\n",
    "port = \"8070\"\n",
    "top_n = 10"
   ]
  },
  {
   "cell_type": "code",
   "execution_count": 55,
   "metadata": {},
   "outputs": [],
   "source": [
    "# Import users from dataset\n",
    "columns = [\"user\", \"tweet\", \"interaction\"]\n",
    "keep_columns = [\"user\"]\n",
    "\n",
    "df = pd.read_csv(data, names=columns, usecols=keep_columns)\n",
    "df = df.drop_duplicates()"
   ]
  },
  {
   "cell_type": "code",
   "execution_count": 56,
   "metadata": {},
   "outputs": [],
   "source": [
    "# Sample users\n",
    "if sample:\n",
    "    df = df.sample(sample)"
   ]
  },
  {
   "cell_type": "code",
   "execution_count": 57,
   "metadata": {},
   "outputs": [],
   "source": [
    "# Perform evaluation\n",
    "recommendation_results = []\n",
    "\n",
    "for user in df[\"user\"]:\n",
    "    url = f\"http://{host}:{port}/recommendation/salsa/{user}/?limit={top_n}\"\n",
    "    response = rq.get(url)\n",
    "    \n",
    "    recommendation_results.append({\n",
    "        \"status_code\": response.status_code,\n",
    "        \"duration\": response.elapsed.total_seconds(),\n",
    "        \"user\": user,\n",
    "        \"recommendations\": response.json() if response.status_code == 200 else [],\n",
    "     })"
   ]
  },
  {
   "cell_type": "code",
   "execution_count": 58,
   "metadata": {},
   "outputs": [],
   "source": [
    "# Save results\n",
    "with open(results, 'w') as f:  \n",
    "    json.dump(recommendation_results, f)"
   ]
  }
 ],
 "metadata": {
  "kernelspec": {
   "display_name": "Python 3",
   "language": "python",
   "name": "python3"
  },
  "language_info": {
   "codemirror_mode": {
    "name": "ipython",
    "version": 3
   },
   "file_extension": ".py",
   "mimetype": "text/x-python",
   "name": "python",
   "nbconvert_exporter": "python",
   "pygments_lexer": "ipython3",
   "version": "3.7.3"
  }
 },
 "nbformat": 4,
 "nbformat_minor": 2
}
