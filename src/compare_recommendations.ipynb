{
  "cells": [
    {
      "cell_type": "code",
      "source": [
        "import pandas as pd\n",
        "import rbo"
      ],
      "outputs": [],
      "execution_count": 52,
      "metadata": {}
    },
    {
      "cell_type": "code",
      "source": [
        "# Parameters\n",
        "baseline_recommendations = None\n",
        "sampled_recommendations = None"
      ],
      "outputs": [],
      "execution_count": 53,
      "metadata": {
        "tags": [
          "parameters"
        ]
      }
    },
    {
      "cell_type": "code",
      "source": [
        "# Import data\n",
        "baseline_df = pd.read_json(baseline_recommendations)\n",
        "sampled_df = pd.read_json(sampled_recommendations)"
      ],
      "outputs": [],
      "execution_count": 55,
      "metadata": {}
    },
    {
      "cell_type": "code",
      "source": [
        "# Merge datasets\n",
        "df = pd.merge(baseline_df, sampled_df, on=\"user\", how=\"inner\", suffixes=[\"_base\", \"_sampled\"])\n",
        "\n",
        "# Check all users are present after merge\n",
        "assert(len(df) == len(baseline_df))\n",
        "\ndf.head()"
      ],
      "outputs": [],
      "execution_count": null,
      "metadata": {
        "collapsed": false,
        "outputHidden": false,
        "inputHidden": false
      }
    },
    {
      "cell_type": "code",
      "source": [
        "# Compute common recommended tweets (without respecting rank order):\n",
        "def set_overlap(row):\n",
        "    base = set(row[\"recommendations_base\"])\n",
        "    sampled = set(row[\"recommendations_sampled\"])\n",
        "    return len(base.intersection(sampled)) / len(base) if len(base) > 0 else 0\n",
        "\n",
        "df[\"set_overlap\"] = df.apply(set_overlap, axis=1)\n",
        "df[df[\"status_code_base\"] == 200][\"set_overlap\"].describe()"
      ],
      "outputs": [],
      "execution_count": null,
      "metadata": {
        "collapsed": false,
        "outputHidden": false,
        "inputHidden": false
      }
    },
    {
      "cell_type": "code",
      "source": [
        "# Compute count of missing recommendations\n",
        "def missing_recommendations(row):\n",
        "    base = set(row[\"recommendations_base\"])\n",
        "    sampled = set(row[\"recommendations_sampled\"])\n",
        "    return len(base) - len(base.intersection(sampled))\n",
        "\n",
        "df[\"missing_recommendations\"] = df.apply(missing_recommendations, axis=1)\n",
        "df[df[\"status_code_base\"] == 200][\"missing_recommendations\"].describe()"
      ],
      "outputs": [],
      "execution_count": null,
      "metadata": {
        "collapsed": false,
        "outputHidden": false,
        "inputHidden": false
      }
    },
    {
      "cell_type": "code",
      "source": [
        "# Compute rank biased overlap for similarity between ranked lists\n",
        "def rank_biased_overlap(row):\n",
        "    base = row[\"recommendations_base\"]\n",
        "    sampled = row[\"recommendations_sampled\"]\n",
        "    result = rbo.RankingSimilarity(base, sampled).rbo()\n",
        "    return result\n",
        "    \n",
        "df[\"rank_biased_overlap\"] = df.apply(rank_biased_overlap, axis=1)\n",
        "df[df[\"status_code_base\"] == 200][\"rank_biased_overlap\"].describe()"
      ],
      "outputs": [],
      "execution_count": null,
      "metadata": {
        "collapsed": false,
        "outputHidden": false,
        "inputHidden": false
      }
    }
  ],
  "metadata": {
    "kernelspec": {
      "display_name": "Python 3",
      "language": "python",
      "name": "python3"
    },
    "language_info": {
      "codemirror_mode": {
        "name": "ipython",
        "version": 3
      },
      "file_extension": ".py",
      "mimetype": "text/x-python",
      "name": "python",
      "nbconvert_exporter": "python",
      "pygments_lexer": "ipython3",
      "version": "3.7.3"
    },
    "nteract": {
      "version": "0.12.3"
    }
  },
  "nbformat": 4,
  "nbformat_minor": 2
}