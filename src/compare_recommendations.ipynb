{
  "cells": [
    {
      "cell_type": "code",
      "source": [
        "import functools as ft\n",
        "import matplotlib.pyplot as plt\n",
        "import numpy as np\n",
        "import pandas as pd\n",
        "import rbo\n",
        "import seaborn as sns"
      ],
      "outputs": [],
      "execution_count": 52,
      "metadata": {}
    },
    {
      "cell_type": "code",
      "source": [
        "app_ids = [\"simple\", \"sampling\", \"range-key\", \"segmented\"]\n",
        "recommendations = [\"../out/simple-recommendations.json\", \"../out/sampling-recommendations.json\", \"../out/range-key-recommendations.json\", \"../out/segmented-recommendations.json\"]"
      ],
      "outputs": [],
      "execution_count": 53,
      "metadata": {
        "tags": [
          "parameters"
        ]
      }
    },
    {
      "cell_type": "code",
      "source": [
        "# Import data\n",
        "dfs = []\n",
        "\n",
        "for i, recommendation in enumerate(recommendations):\n",
        "    dfs.append(pd.read_json(recommendation, orient=\"table\"))"
      ],
      "outputs": [],
      "execution_count": 55,
      "metadata": {}
    },
    {
      "cell_type": "code",
      "source": [
        "# Merge Datasets\n",
        "# Init merge with first DataFrame\n",
        "df = dfs[0]\n",
        "join_columns = [\"user\", \"walks\", \"walk_length\", \"limit\"]\n",
        "duplicated_columns = [column for column in df.columns.to_list() if column not in join_columns]\n",
        "\n",
        "# Merge all DataFrames\n",
        "for i, right_df in enumerate(dfs):\n",
        "    app_id = app_ids[i]\n",
        "    df = pd.merge(df, right_df, on=join_columns, how=\"inner\", suffixes=(\"\", f\"_{app_id}\"))\n",
        "\n",
        "# Drop first DataFrame (is duplicated in dataset)\n",
        "df = df.drop(duplicated_columns, axis=1)\n",
        "\n",
        "# Ensure that all users are present after merge\n",
        "for original_df in dfs:\n",
        "    assert(len(df) == len(original_df))\n",
        "\ndf.head()"
      ],
      "outputs": [],
      "execution_count": null,
      "metadata": {
        "collapsed": false,
        "outputHidden": false,
        "inputHidden": false
      }
    },
    {
      "cell_type": "markdown",
      "source": [
        "# Data Enrichment"
      ],
      "metadata": {
        "collapsed": false,
        "outputHidden": false,
        "inputHidden": false
      }
    },
    {
      "cell_type": "code",
      "source": [
        "# Calculate top 3 recommendations\n",
        "for app_id in app_ids:\n",
        "    df[f\"top_3_recommendations_{app_id}\"] = df[f\"recommendations_{app_id}\"].apply(lambda x: x[:3] if len(x) >= 3 else x)"
      ],
      "outputs": [],
      "execution_count": null,
      "metadata": {
        "collapsed": false,
        "outputHidden": false,
        "inputHidden": false
      }
    },
    {
      "cell_type": "markdown",
      "source": [
        "# Utils"
      ],
      "metadata": {
        "collapsed": false,
        "outputHidden": false,
        "inputHidden": false
      }
    },
    {
      "cell_type": "code",
      "source": [
        "def triangular_mask(dim):\n",
        "    \"\"\"Create a mask of ones for half a square. Used to mask heatmaps.\"\"\"\n",
        "    mask = np.zeros((dim, dim))\n",
        "    for y in range(0, dim):\n",
        "        for x in range(dim - 1, y, -1):\n",
        "            mask[y][x] = 1\n",
        "    return mask\n",
        "\n",
        "mask = triangular_mask(len(app_ids))\n",
        "\n",
        "def heatmap(frame, title=\"\", vmin=0, vmax=1):\n",
        "    \"\"\"Plot heatmap of pivoted dataframe\"\"\"\n",
        "    mask = triangular_mask(len(frame.index.unique()))\n",
        "    plt.title(title)\n",
        "    ax = sns.heatmap(frame, mask=mask, vmin=vmin, vmax=vmax, annot=True, cmap=\"YlGnBu\", square=True)\n",
        "    ax.set_ylabel(\"\")    \n",
        "    ax.set_xlabel(\"\")\n",
        "    return ax"
      ],
      "outputs": [],
      "execution_count": null,
      "metadata": {
        "collapsed": false,
        "outputHidden": false,
        "inputHidden": false
      }
    },
    {
      "cell_type": "markdown",
      "source": [
        "# Request duration"
      ],
      "metadata": {
        "collapsed": false,
        "outputHidden": false,
        "inputHidden": false
      }
    },
    {
      "cell_type": "code",
      "source": [
        "durations = []\n",
        "walks = []\n",
        "walk_lengths = []\n",
        "styles = []\n",
        "\n",
        "for app_id in app_ids:\n",
        "    durations.extend(df[f\"duration_{app_id}\"].to_list())\n",
        "    walks.extend(df[f\"walks\"].to_list())\n",
        "    walk_lengths.extend(df[f\"walk_length\"].to_list())\n",
        "    styles.extend([app_id for i in range(0, len(df))])\n",
        "    \n",
        "duration_df = pd.DataFrame({\"walks\": walks, \"walk_length\": walk_lengths, \"duration\": durations, \"app_id\": styles}) "
      ],
      "outputs": [],
      "execution_count": null,
      "metadata": {
        "collapsed": false,
        "outputHidden": false,
        "inputHidden": false
      }
    },
    {
      "cell_type": "code",
      "source": [
        "f, ax = plt.subplots(figsize=(8,8))\n",
        "ax = sns.stripplot(x=\"walks\", y=\"duration\", hue=\"app_id\", jitter=True, palette=\"Set1\", alpha=.5, edgecolor=\"gray\", dodge=True, data=duration_df)\n",
        "ax.set(xlabel=\"Number of random walks\", ylabel=\"Request Duration (seconds)\")\n",
        "plt.show()"
      ],
      "outputs": [],
      "execution_count": null,
      "metadata": {
        "collapsed": false,
        "outputHidden": false,
        "inputHidden": false
      }
    },
    {
      "cell_type": "code",
      "source": [
        "f, ax = plt.subplots(figsize=(8,8))\n",
        "ax = sns.stripplot(x=\"walk_length\", y=\"duration\", hue=\"app_id\", jitter=True, palette=\"Set1\", alpha=.5, edgecolor=\"gray\", dodge=True, data=duration_df)\n",
        "ax.set(xlabel=\"Length of random walks\", ylabel=\"Request Duration (seconds)\")\n",
        "plt.show()"
      ],
      "outputs": [],
      "execution_count": null,
      "metadata": {
        "collapsed": false,
        "outputHidden": false,
        "inputHidden": false
      }
    },
    {
      "cell_type": "code",
      "source": [
        "heatmap(duration_df.corr())"
      ],
      "outputs": [],
      "execution_count": null,
      "metadata": {
        "collapsed": false,
        "outputHidden": false,
        "inputHidden": false
      }
    },
    {
      "cell_type": "code",
      "source": [
        "ax = sns.catplot(x=\"app_id\", y=\"duration\", row=\"walks\", col=\"walk_length\", kind=\"box\", data=duration_df, palette=\"Set1\")\n",
        "ax.set(xlabel=\"\", ylabel=\"Request Duration (s)\")"
      ],
      "outputs": [],
      "execution_count": null,
      "metadata": {
        "collapsed": false,
        "outputHidden": false,
        "inputHidden": false
      }
    },
    {
      "cell_type": "markdown",
      "source": [
        "# Number of common recommendations / Set overlap"
      ],
      "metadata": {
        "collapsed": false,
        "outputHidden": false,
        "inputHidden": false
      }
    },
    {
      "cell_type": "code",
      "source": [
        "# Compute common recommended tweets (without respecting rank order):\n",
        "def set_overlap_per_row(row, app_base, app_variant):\n",
        "    base = set(row[app_base])\n",
        "    variant = set(row[app_variant])\n",
        "    return len(base.intersection(variant)) / len(base) if len(base) > 0 else 0\n",
        "\n",
        "def set_overlap(frame, column_prefix=\"\"):\n",
        "    base_apps = []\n",
        "    variant_apps = []\n",
        "    set_overlaps = []\n",
        "\n",
        "    for app_base in app_ids:\n",
        "        base = f\"{column_prefix}recommendations_{app_base}\"\n",
        "        \n",
        "        for app_variant in app_ids:\n",
        "            variant = f\"{column_prefix}recommendations_{app_variant}\"\n",
        "            set_overlaps.extend(df.apply(lambda x: set_overlap_per_row(x, base, variant), axis=1).to_list())\n",
        "            base_apps.extend(df.apply(lambda x: app_base, axis=1).to_list())\n",
        "            variant_apps.extend(df.apply(lambda x: app_variant, axis=1).to_list())\n",
        "    \n",
        "    set_overlap_df = pd.DataFrame({\"base\": base_apps, \"variant\": variant_apps, \"set_overlap\": set_overlaps})\n",
        "    set_overlap_df = set_overlap_df.groupby([\"base\", \"variant\"])[\"set_overlap\"].mean()\n",
        "    set_overlap_df = set_overlap_df.reset_index()\n",
        "    set_overlap_df = set_overlap_df.pivot(index=\"base\", columns=\"variant\", values=\"set_overlap\")\n",
        "    return set_overlap_df"
      ],
      "outputs": [],
      "execution_count": null,
      "metadata": {
        "collapsed": false,
        "outputHidden": false,
        "inputHidden": false
      }
    },
    {
      "cell_type": "code",
      "source": [
        "set_overlap_df = set_overlap(df)\n",
        "heatmap(set_overlap_df, \"Set overlap (top 10)\")"
      ],
      "outputs": [],
      "execution_count": null,
      "metadata": {
        "collapsed": false,
        "outputHidden": false,
        "inputHidden": false
      }
    },
    {
      "cell_type": "code",
      "source": [
        "set_overlap_df = set_overlap(df, \"top_3_\")\n",
        "heatmap(set_overlap_df, \"Set overlap (top 3)\")"
      ],
      "outputs": [],
      "execution_count": null,
      "metadata": {
        "collapsed": false,
        "outputHidden": false,
        "inputHidden": false
      }
    },
    {
      "cell_type": "markdown",
      "source": [
        "# Compare rankings"
      ],
      "metadata": {
        "collapsed": false,
        "outputHidden": false,
        "inputHidden": false
      }
    },
    {
      "cell_type": "code",
      "source": [
        "# Compute rank biased overlap for similarity between ranked lists\n",
        "def rank_biased_overlap_row(row, base_app, variant_app):\n",
        "    base = row[base_app]\n",
        "    variant = row[variant_app]\n",
        "    result = rbo.RankingSimilarity(base, variant).rbo()\n",
        "    return result\n",
        "\n\n",
        "def rank_biased_overlap(frame, column_prefix=\"\"):\n",
        "    base_apps = []\n",
        "    variant_apps = []\n",
        "    rank_overlaps = []\n",
        "\n",
        "    for app_base in app_ids:\n",
        "        base = f\"{column_prefix}recommendations_{app_base}\"\n",
        "        \n",
        "        for app_variant in app_ids:\n",
        "            variant = f\"{column_prefix}recommendations_{app_variant}\"\n",
        "            rank_overlaps.extend(df.apply(lambda x: rank_biased_overlap_row(x, base, variant), axis=1).to_list())\n",
        "            base_apps.extend(df.apply(lambda x: app_base, axis=1).to_list())\n",
        "            variant_apps.extend(df.apply(lambda x: app_variant, axis=1).to_list())\n",
        "    \n",
        "    rank_biased_overlap_df = pd.DataFrame({\"base\": base_apps, \"variant\": variant_apps, \"rank_biased_overlap\": rank_overlaps})\n",
        "    rank_biased_overlap_df = rank_biased_overlap_df.groupby([\"base\", \"variant\"])[\"rank_biased_overlap\"].mean()\n",
        "    rank_biased_overlap_df = rank_biased_overlap_df.reset_index()\n",
        "    rank_biased_overlap_df = rank_biased_overlap_df.pivot(index=\"base\", columns=\"variant\", values=\"rank_biased_overlap\")\n",
        "    return rank_biased_overlap_df"
      ],
      "outputs": [],
      "execution_count": null,
      "metadata": {
        "collapsed": false,
        "outputHidden": false,
        "inputHidden": false
      }
    },
    {
      "cell_type": "code",
      "source": [
        "rank_biased_overlap_df = rank_biased_overlap(df)\n",
        "heatmap(rank_biased_overlap_df, \"Rank-biased overlap (top 10)\")"
      ],
      "outputs": [],
      "execution_count": null,
      "metadata": {
        "collapsed": false,
        "outputHidden": false,
        "inputHidden": false
      }
    },
    {
      "cell_type": "code",
      "source": [
        "rank_biased_overlap_df = rank_biased_overlap(df, \"top_3_\")\n",
        "heatmap(rank_biased_overlap_df, \"Rank-biased overlap (top 3)\")"
      ],
      "outputs": [],
      "execution_count": null,
      "metadata": {
        "collapsed": false,
        "outputHidden": false,
        "inputHidden": false
      }
    },
    {
      "cell_type": "code",
      "source": [
        "for walks in [100, 1000, 10000]:\n",
        "    for walk_length in [100, 1000, 10000]:\n",
        "        print(f\"Walks: {walks}, Length: {walk_length}\")\n",
        "        frame = df[(df[\"walk_length\"] == walk_length) & (df[\"walks\"] == walks)]\n",
        "        rank_biased_overlap_df = rank_biased_overlap(frame)\n",
        "        ax = heatmap(rank_biased_overlap_df, \"Rank-biased overlap (top 10)\")\n",
        "        plt.show()"
      ],
      "outputs": [],
      "execution_count": null,
      "metadata": {
        "collapsed": false,
        "outputHidden": false,
        "inputHidden": false
      }
    },
    {
      "cell_type": "markdown",
      "source": [
        "# Missing Recommendations"
      ],
      "metadata": {
        "collapsed": false,
        "outputHidden": false,
        "inputHidden": false
      }
    },
    {
      "cell_type": "code",
      "source": [
        "# Compute common recommended tweets (without respecting rank order):\n",
        "def missing_recommendations_per_row(row, app_base, app_variant):\n",
        "    base = set(row[app_base])\n",
        "    variant = set(row[app_variant])\n",
        "    return len(base) - len(base.intersection(variant))\n",
        "\n",
        "def missing_recommendations(frame, column_prefix=\"\"):\n",
        "    base_apps = []\n",
        "    variant_apps = []\n",
        "    set_overlaps = []\n",
        "\n",
        "    for app_base in app_ids:\n",
        "        base = f\"{column_prefix}recommendations_{app_base}\"\n",
        "        \n",
        "        for app_variant in app_ids:\n",
        "            variant = f\"{column_prefix}recommendations_{app_variant}\"\n",
        "            set_overlaps.extend(df.apply(lambda x: missing_recommendations_per_row(x, base, variant), axis=1).to_list())\n",
        "            base_apps.extend(df.apply(lambda x: app_base, axis=1).to_list())\n",
        "            variant_apps.extend(df.apply(lambda x: app_variant, axis=1).to_list())\n",
        "    \n",
        "    missing_recommendations_df = pd.DataFrame({\"base\": base_apps, \"variant\": variant_apps, \"missing_recommendations\": set_overlaps})\n",
        "    missing_recommendations_df = missing_recommendations_df.groupby([\"base\", \"variant\"])[\"missing_recommendations\"].mean()\n",
        "    missing_recommendations_df = missing_recommendations_df.reset_index()\n",
        "    missing_recommendations_df = missing_recommendations_df.pivot(index=\"base\", columns=\"variant\", values=\"missing_recommendations\")\n",
        "    return missing_recommendations_df"
      ],
      "outputs": [],
      "execution_count": null,
      "metadata": {
        "collapsed": false,
        "outputHidden": false,
        "inputHidden": false
      }
    },
    {
      "cell_type": "code",
      "source": [
        "missing_recommendations_df = missing_recommendations(df)\n",
        "heatmap(missing_recommendations_df, \"Average missing recommendations (top 10)\", vmax=4)"
      ],
      "outputs": [],
      "execution_count": null,
      "metadata": {
        "collapsed": false,
        "outputHidden": false,
        "inputHidden": false
      }
    },
    {
      "cell_type": "code",
      "source": [
        "missing_recommendations_df = missing_recommendations(df, \"top_3_\")\n",
        "heatmap(missing_recommendations_df, \"Average missing recommendations (top 3)\", vmax=4)"
      ],
      "outputs": [],
      "execution_count": null,
      "metadata": {
        "collapsed": false,
        "outputHidden": false,
        "inputHidden": false
      }
    }
  ],
  "metadata": {
    "kernelspec": {
      "display_name": "Python 3",
      "language": "python",
      "name": "python3"
    },
    "language_info": {
      "codemirror_mode": {
        "name": "ipython",
        "version": 3
      },
      "file_extension": ".py",
      "mimetype": "text/x-python",
      "name": "python",
      "nbconvert_exporter": "python",
      "pygments_lexer": "ipython3",
      "version": "3.7.3"
    },
    "nteract": {
      "version": "0.12.3"
    }
  },
  "nbformat": 4,
  "nbformat_minor": 2
}