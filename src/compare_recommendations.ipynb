{
  "cells": [
    {
      "cell_type": "code",
      "source": [
        "import pandas as pd\n",
        "import rbo\n",
        "import seaborn as sns"
      ],
      "outputs": [],
      "execution_count": 52,
      "metadata": {}
    },
    {
      "cell_type": "code",
      "source": [
        "# Parameters\n",
        "baseline_recommendations = None\n",
        "sampled_recommendations = None"
      ],
      "outputs": [],
      "execution_count": 53,
      "metadata": {
        "tags": [
          "parameters"
        ]
      }
    },
    {
      "cell_type": "code",
      "source": [
        "# Import data\n",
        "baseline_df = pd.read_json(baseline_recommendations)\n",
        "sampled_df = pd.read_json(sampled_recommendations)"
      ],
      "outputs": [],
      "execution_count": 55,
      "metadata": {}
    },
    {
      "cell_type": "code",
      "source": [
        "# Merge datasets\n",
        "df = pd.merge(baseline_df, sampled_df, on=\"user\", how=\"inner\", suffixes=[\"_base\", \"_sampled\"])\n",
        "\n",
        "# Check all users are present after merge\n",
        "assert(len(df) == len(baseline_df))\n",
        "\ndf.head()"
      ],
      "outputs": [],
      "execution_count": null,
      "metadata": {
        "collapsed": false,
        "outputHidden": false,
        "inputHidden": false
      }
    },
    {
      "cell_type": "code",
      "source": [
        "# Data Enrichment\n",
        "df[\"top_3_base\"] = df[\"recommendations_base\"].apply(lambda x: x[:3] if len(x) >= 3 else x)\n",
        "df[\"top_3_sampled\"] = df[\"recommendations_sampled\"].apply(lambda x: x[:3] if len(x) >= 3 else x)"
      ],
      "outputs": [],
      "execution_count": null,
      "metadata": {
        "collapsed": false,
        "outputHidden": false,
        "inputHidden": false
      }
    },
    {
      "cell_type": "markdown",
      "source": [
        "# Request duration"
      ],
      "metadata": {
        "collapsed": false,
        "outputHidden": false,
        "inputHidden": false
      }
    },
    {
      "cell_type": "code",
      "source": [
        "# Simple request duration\n",
        "print(df[\"duration_base\"].describe(percentiles=[0.1, 0.25, 0.5, 0.75, 0.9, 0.99]))\n",
        "sns.distplot(df[\"duration_base\"], kde=False, rug=True)"
      ],
      "outputs": [],
      "execution_count": null,
      "metadata": {
        "collapsed": false,
        "outputHidden": false,
        "inputHidden": false
      }
    },
    {
      "cell_type": "code",
      "source": [
        "# Sampled request duration\n",
        "print(df[\"duration_sampled\"].describe(percentiles=[0.1, 0.25, 0.5, 0.75, 0.9, 0.99]))\n",
        "sns.distplot(df[\"duration_sampled\"], kde=False, rug=True)"
      ],
      "outputs": [],
      "execution_count": null,
      "metadata": {
        "collapsed": false,
        "outputHidden": false,
        "inputHidden": false
      }
    },
    {
      "cell_type": "code",
      "source": [
        "# Comparing simple and sampled request durations\n",
        "sns.jointplot(x=\"duration_base\", y=\"duration_sampled\", data=df);"
      ],
      "outputs": [],
      "execution_count": null,
      "metadata": {
        "collapsed": false,
        "outputHidden": false,
        "inputHidden": false
      }
    },
    {
      "cell_type": "markdown",
      "source": [
        "# Number of recommendations"
      ],
      "metadata": {
        "collapsed": false,
        "outputHidden": false,
        "inputHidden": false
      }
    },
    {
      "cell_type": "code",
      "source": [
        "# Simple recommendations\n",
        "df[\"recommendations_base_count\"] = df[\"recommendations_base\"].apply(lambda x: len(x))\n",
        "\n",
        "print(\"Number of zero recommendations\", df[df[\"recommendations_base_count\"] == 0][\"user\"].count())\n",
        "print(df[\"recommendations_base_count\"].describe(percentiles=[0.1, 0.25, 0.5, 0.75, 0.9, 0.99]))\n",
        "\nsns.distplot(df[\"recommendations_base_count\"], kde=False, rug=True)"
      ],
      "outputs": [],
      "execution_count": null,
      "metadata": {
        "collapsed": false,
        "outputHidden": false,
        "inputHidden": false
      }
    },
    {
      "cell_type": "code",
      "source": [
        "# Sampled recommendations\n",
        "df[\"recommendations_sampled_count\"] = df[\"recommendations_sampled\"].apply(lambda x: len(x))\n",
        "\n",
        "print(\"Number of zero recommendations\", df[df[\"recommendations_sampled_count\"] == 0][\"user\"].count())\n",
        "print(df[\"recommendations_sampled_count\"].describe(percentiles=[0.1, 0.25, 0.5, 0.75, 0.9, 0.99]))\n",
        "\nsns.distplot(df[\"recommendations_sampled_count\"], kde=False, rug=True)"
      ],
      "outputs": [],
      "execution_count": null,
      "metadata": {
        "collapsed": false,
        "outputHidden": false,
        "inputHidden": false
      }
    },
    {
      "cell_type": "markdown",
      "source": [
        "# Number of common recommendations"
      ],
      "metadata": {
        "collapsed": false,
        "outputHidden": false,
        "inputHidden": false
      }
    },
    {
      "cell_type": "code",
      "source": [
        "# Compute common recommended tweets (without respecting rank order):\n",
        "def set_overlap(row):\n",
        "    base = set(row[\"recommendations_base\"])\n",
        "    sampled = set(row[\"recommendations_sampled\"])\n",
        "    return len(base.intersection(sampled)) / len(base) if len(base) > 0 else 0\n",
        "\n",
        "df[\"set_overlap\"] = df.apply(set_overlap, axis=1)\n",
        "print(df[\"set_overlap\"].describe(percentiles=[0.1, 0.25, 0.5, 0.75, 0.9, 0.99]))\n",
        "sns.distplot(df[\"set_overlap\"], kde=False, rug=True)"
      ],
      "outputs": [],
      "execution_count": null,
      "metadata": {
        "collapsed": false,
        "outputHidden": false,
        "inputHidden": false
      }
    },
    {
      "cell_type": "code",
      "source": [
        "# Compute common top 3 recommended tweets (without respecting rank order):\n",
        "def set_overlap(row):\n",
        "    base = set(row[\"top_3_base\"])\n",
        "    sampled = set(row[\"top_3_sampled\"])\n",
        "    return len(base.intersection(sampled)) / len(base) if len(base) > 0 else 0\n",
        "\n",
        "df[\"set_overlap_top_3\"] = df.apply(set_overlap, axis=1)\n",
        "print(df[\"set_overlap_top_3\"].describe(percentiles=[0.1, 0.25, 0.5, 0.75, 0.9, 0.99]))\n",
        "sns.distplot(df[\"set_overlap_top_3\"], kde=False, rug=True)"
      ],
      "outputs": [],
      "execution_count": null,
      "metadata": {
        "collapsed": false,
        "outputHidden": false,
        "inputHidden": false
      }
    },
    {
      "cell_type": "markdown",
      "source": [
        "# Number of missing recommendations"
      ],
      "metadata": {
        "collapsed": false,
        "outputHidden": false,
        "inputHidden": false
      }
    },
    {
      "cell_type": "code",
      "source": [
        "# Compute count of missing recommendations\n",
        "def missing_recommendations(row):\n",
        "    base = set(row[\"recommendations_base\"])\n",
        "    sampled = set(row[\"recommendations_sampled\"])\n",
        "    return len(base) - len(base.intersection(sampled))\n",
        "\n",
        "df[\"missing_recommendations\"] = df.apply(missing_recommendations, axis=1)\n",
        "print(df[\"missing_recommendations\"].describe(percentiles=[0.1, 0.25, 0.5, 0.75, 0.9, 0.99]))\n",
        "sns.distplot(df[\"missing_recommendations\"], kde=False, rug=True)"
      ],
      "outputs": [],
      "execution_count": null,
      "metadata": {
        "collapsed": false,
        "outputHidden": false,
        "inputHidden": false
      }
    },
    {
      "cell_type": "markdown",
      "source": [
        "# Compare rankings"
      ],
      "metadata": {
        "collapsed": false,
        "outputHidden": false,
        "inputHidden": false
      }
    },
    {
      "cell_type": "code",
      "source": [
        "# Compute rank biased overlap for similarity between ranked lists\n",
        "def rank_biased_overlap(row):\n",
        "    base = row[\"recommendations_base\"]\n",
        "    sampled = row[\"recommendations_sampled\"]\n",
        "    result = rbo.RankingSimilarity(base, sampled).rbo()\n",
        "    return result\n",
        "    \n",
        "df[\"rank_biased_overlap\"] = df.apply(rank_biased_overlap, axis=1)\n",
        "print(df[\"rank_biased_overlap\"].describe(percentiles=[0.1, 0.25, 0.5, 0.75, 0.9, 0.99]))\n",
        "sns.distplot(df[\"rank_biased_overlap\"], kde=False, rug=True)"
      ],
      "outputs": [],
      "execution_count": null,
      "metadata": {
        "collapsed": false,
        "outputHidden": false,
        "inputHidden": false
      }
    },
    {
      "cell_type": "code",
      "source": [
        "# Number of base recommendations vs Rank Bias Overlap (list order)\n",
        "sns.jointplot(x=\"recommendations_base_count\", y=\"rank_biased_overlap\", data=df);"
      ],
      "outputs": [],
      "execution_count": null,
      "metadata": {
        "collapsed": false,
        "outputHidden": false,
        "inputHidden": false
      }
    },
    {
      "cell_type": "code",
      "source": [
        "# Set overlap (common recommendations) vs Rank Bias Overlap (list order)\n",
        "sns.jointplot(x=\"set_overlap\", y=\"rank_biased_overlap\", data=df);"
      ],
      "outputs": [],
      "execution_count": null,
      "metadata": {
        "collapsed": false,
        "outputHidden": false,
        "inputHidden": false
      }
    },
    {
      "cell_type": "code",
      "source": [
        "#  Compute rank biased overlap for top 3 recommendations\n",
        "def rank_biased_overlap(row):\n",
        "    base = row[\"top_3_base\"]\n",
        "    sampled = row[\"top_3_sampled\"]\n",
        "    result = rbo.RankingSimilarity(base, sampled).rbo()\n",
        "    return result\n",
        "\n",
        "df[\"rank_biased_overlap_top_3\"] = df.apply(rank_biased_overlap, axis=1)\n",
        "print(df[\"rank_biased_overlap_top_3\"].describe(percentiles=[0.1, 0.25, 0.5, 0.75, 0.9, 0.99]))\n",
        "sns.distplot(df[\"rank_biased_overlap_top_3\"], kde=False, rug=True)"
      ],
      "outputs": [],
      "execution_count": null,
      "metadata": {
        "collapsed": false,
        "outputHidden": false,
        "inputHidden": false
      }
    },
    {
      "cell_type": "markdown",
      "source": [
        "# Inspect Examples"
      ],
      "metadata": {
        "collapsed": false,
        "outputHidden": false,
        "inputHidden": false
      }
    },
    {
      "cell_type": "code",
      "source": [
        "df[df[\"recommendations_base_count\"] > 1]"
      ],
      "outputs": [],
      "execution_count": null,
      "metadata": {
        "collapsed": false,
        "outputHidden": false,
        "inputHidden": false
      }
    }
  ],
  "metadata": {
    "kernelspec": {
      "display_name": "Python 3",
      "language": "python",
      "name": "python3"
    },
    "language_info": {
      "codemirror_mode": {
        "name": "ipython",
        "version": 3
      },
      "file_extension": ".py",
      "mimetype": "text/x-python",
      "name": "python",
      "nbconvert_exporter": "python",
      "pygments_lexer": "ipython3",
      "version": "3.7.3"
    },
    "nteract": {
      "version": "0.12.3"
    }
  },
  "nbformat": 4,
  "nbformat_minor": 2
}