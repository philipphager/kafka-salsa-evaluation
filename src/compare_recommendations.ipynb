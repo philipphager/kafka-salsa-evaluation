{
  "cells": [
    {
      "cell_type": "code",
      "source": [
        "import pandas as pd"
      ],
      "outputs": [],
      "execution_count": 52,
      "metadata": {}
    },
    {
      "cell_type": "code",
      "source": [
        "# Parameters\n",
        "baseline_recommendations = None\n",
        "sampled_recommendations = None"
      ],
      "outputs": [],
      "execution_count": 53,
      "metadata": {
        "tags": [
          "parameters"
        ]
      }
    },
    {
      "cell_type": "code",
      "source": [
        "# Import data\n",
        "baseline_df = pd.read_json(baseline_recommendations)\n",
        "sampled_df = pd.read_json(sampled_recommendations)"
      ],
      "outputs": [],
      "execution_count": 55,
      "metadata": {}
    },
    {
      "cell_type": "code",
      "source": [
        "# Merge datasets\n",
        "df = pd.merge(baseline_df, sampled_df, on=\"user\", how=\"inner\", suffixes=[\"_base\", \"_sampled\"])\n",
        "\n",
        "# Check all users are present after merge\n",
        "assert(len(df) == len(baseline_df))\n",
        "\ndf.head()"
      ],
      "outputs": [],
      "execution_count": null,
      "metadata": {
        "collapsed": false,
        "outputHidden": false,
        "inputHidden": false
      }
    },
    {
      "cell_type": "code",
      "source": [
        "# Compute accuracy:\n",
        "common_recommendations = []\n",
        "missing_base_recommendations = []\n",
        "\n",
        "for i, row in df.iterrows():\n",
        "    base = set(row[\"recommendations_base\"])\n",
        "    sampled = set(row[\"recommendations_sampled\"])\n",
        "    common = base.intersection(sampled)    \n",
        "    missing = base - sampled\n",
        "    \n",
        "    df.at[i, \"common_recommendation_count\"] = len(common)\n",
        "    df.at[i, \"accuracy\"] = len(common) / len(base) if len(base) > 0 else 0\n",
        "    common_recommendations.append(list(common))\n",
        "    missing_base_recommendations.append(list(missing))\n",
        "\n",
        "df[\"common_recommendations\"] = common_recommendations\n",
        "df[\"missing_base_recommendations\"] = missing_base_recommendations\n",
        "\n",
        "print(\"Accuracy of sampled prediction:\")\n",
        "df[df[\"status_code_base\"] == 200][\"accuracy\"].describe()"
      ],
      "outputs": [],
      "execution_count": null,
      "metadata": {
        "collapsed": false,
        "outputHidden": false,
        "inputHidden": false
      }
    }
  ],
  "metadata": {
    "kernelspec": {
      "display_name": "Python 3",
      "language": "python",
      "name": "python3"
    },
    "language_info": {
      "codemirror_mode": {
        "name": "ipython",
        "version": 3
      },
      "file_extension": ".py",
      "mimetype": "text/x-python",
      "name": "python",
      "nbconvert_exporter": "python",
      "pygments_lexer": "ipython3",
      "version": "3.7.3"
    },
    "nteract": {
      "version": "0.12.3"
    }
  },
  "nbformat": 4,
  "nbformat_minor": 2
}