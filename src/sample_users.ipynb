{
  "cells": [
    {
      "cell_type": "code",
      "source": [
        "import pandas as pd"
      ],
      "outputs": [],
      "execution_count": 52,
      "metadata": {}
    },
    {
      "cell_type": "code",
      "source": [
        "# Parameters\n",
        "data = None\n",
        "sample = None\n",
        "output = \"users.json\""
      ],
      "outputs": [],
      "execution_count": 53,
      "metadata": {
        "tags": [
          "parameters"
        ]
      }
    },
    {
      "cell_type": "code",
      "source": [
        "# Import users from dataset\n",
        "columns = [\"user\", \"tweet\", \"interaction\"]\n",
        "keep_columns = [\"user\"]\n",
        "\n",
        "df = pd.read_csv(data, names=columns, usecols=keep_columns)\n",
        "df = df.drop_duplicates()"
      ],
      "outputs": [],
      "execution_count": 55,
      "metadata": {}
    },
    {
      "cell_type": "code",
      "source": [
        "# Sample users\n",
        "if sample:\n",
        "    df = df.tail(sample)"
      ],
      "outputs": [],
      "execution_count": 56,
      "metadata": {}
    },
    {
      "cell_type": "code",
      "source": [
        "# Save results\n",
        "df.to_json(output)"
      ],
      "outputs": [],
      "execution_count": 58,
      "metadata": {}
    }
  ],
  "metadata": {
    "kernelspec": {
      "display_name": "Python 3",
      "language": "python",
      "name": "python3"
    },
    "language_info": {
      "codemirror_mode": {
        "name": "ipython",
        "version": 3
      },
      "file_extension": ".py",
      "mimetype": "text/x-python",
      "name": "python",
      "nbconvert_exporter": "python",
      "pygments_lexer": "ipython3",
      "version": "3.7.3"
    },
    "nteract": {
      "version": "0.12.3"
    }
  },
  "nbformat": 4,
  "nbformat_minor": 2
}